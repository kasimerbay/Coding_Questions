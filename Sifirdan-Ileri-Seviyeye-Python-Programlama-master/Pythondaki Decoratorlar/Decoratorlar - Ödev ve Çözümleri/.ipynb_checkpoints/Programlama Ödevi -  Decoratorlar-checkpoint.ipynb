{
 "cells": [
  {
   "cell_type": "markdown",
   "metadata": {},
   "source": [
    "## Programlama Ödevi -  Decoratorlar\n",
    "\n",
    "### Araştırma\n",
    "\n",
    "Python'da decoratorların nerelerde ve nasıl kullanıldığını araştırın."
   ]
  },
  {
   "cell_type": "markdown",
   "metadata": {},
   "source": [
    "### Program\n",
    "\n",
    "1'den 1000'e kadar olan asal sayıları ekrana yazdıran bir program yazın. Daha sonra bir tane **decorator fonksiyon** kullanarak bu fonksiyona 1'den 1000'e kadar olan mükemmel sayıları yazdırma özelliği ekleyin."
   ]
  },
  {
   "cell_type": "code",
   "execution_count": 9,
   "metadata": {},
   "outputs": [],
   "source": [
    "def isPerfect(l):\n",
    "    sum = 0\n",
    "    div = list()\n",
    "    for i in range(1,l):\n",
    "        if(l%i == 0):\n",
    "            div.append(i)\n",
    "            \n",
    "    for i in div:\n",
    "        sum += i\n",
    "    if(sum == l):\n",
    "        return True\n",
    "    else:\n",
    "        return False\n",
    "\n",
    "@mükemmel_sayılar\n",
    "def primes(a,b):\n",
    "    l = [i for i in range(a,b+1)]\n",
    "    prime = []\n",
    "    for i in l:\n",
    "        t = [k for k in range(2,i)]\n",
    "        if(i>1):\n",
    "            for j in t:\n",
    "                if(i%j == 0):\n",
    "                    break\n",
    "            else:\n",
    "                prime.append(i)\n",
    "    return prime\n",
    "\n",
    "def mükemmel_sayılar(func):\n",
    "    def wrapper(a,b):\n",
    "        perf = list()\n",
    "        for i in func(a,b):\n",
    "            if(isPerfect(i) == True):\n",
    "                perf.append(i)\n",
    "        print(func(a,b))\n",
    "        return perf\n",
    "    return wrapper\n",
    "\n",
    "#primes = mükemmel_sayılar(primes)\n",
    "primes(1,1000)"
   ]
  }
 ],
 "metadata": {
  "kernelspec": {
   "display_name": "Python 3",
   "language": "python",
   "name": "python3"
  },
  "language_info": {
   "codemirror_mode": {
    "name": "ipython",
    "version": 3
   },
   "file_extension": ".py",
   "mimetype": "text/x-python",
   "name": "python",
   "nbconvert_exporter": "python",
   "pygments_lexer": "ipython3",
   "version": "3.7.4"
  }
 },
 "nbformat": 4,
 "nbformat_minor": 2
}
