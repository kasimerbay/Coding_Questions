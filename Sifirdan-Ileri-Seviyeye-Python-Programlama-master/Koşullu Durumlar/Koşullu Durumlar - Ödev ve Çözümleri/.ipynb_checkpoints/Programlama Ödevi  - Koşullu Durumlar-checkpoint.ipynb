{
 "cells": [
  {
   "cell_type": "markdown",
   "metadata": {},
   "source": [
    "## Programlama Ödevi  - Koşullu Durumlar\n",
    "*Tebrikler! Bölümü başarıyla bitirdiniz. Şimdi, öğrendiklerinizin akılda kalması için ödevinizi yapma zamanı!*"
   ]
  },
  {
   "cell_type": "markdown",
   "metadata": {},
   "source": [
    "### Problem 1\n",
    "\n",
    "Kullanıcıdan alınan boy ve kilo değerlerine göre beden kitle indeksini hesaplayın ve şu kurallara göre ekrana şu yazıları yazdırın.\n",
    "\n",
    "     Beden Kitle İndeksi: Kilo / Boy(m) *  Boy(m)\n",
    "    \n",
    "     BKİ 18.5'un altındaysa -------> Zayıf\n",
    "     \n",
    "     BKİ 18.5 ile 25 arasındaysa ------> Normal\n",
    "     \n",
    "     BKİ 25 ile 30 arasındaysa --------> Fazla Kilolu\n",
    "     \n",
    "     BKİ 30'un üstündeyse -------------> Obez\n",
    "     "
   ]
  },
  {
   "cell_type": "code",
   "execution_count": 2,
   "metadata": {},
   "outputs": [
    {
     "name": "stdout",
     "output_type": "stream",
     "text": [
      "Boyunun ölçüsünü alırım:1.82\n",
      "Ne kadar yimişin:87\n",
      "Dikkat et az kebap ye\n"
     ]
    }
   ],
   "source": [
    "height = float(input(\"Boyunun ölçüsünü alırım:\"))\n",
    "weight = int(input(\"Ne kadar yimişin:\"))\n",
    "index = weight/(height**2)\n",
    "if(index<18.5):\n",
    "    print(\"Zayıfsın birader ye biraz\")\n",
    "elif(index>=18 and index<25):\n",
    "    print(\"Eferim böyle devam\")\n",
    "elif(index>=25 and index<30):\n",
    "    print(\"Dikkat et az kebap ye\")\n",
    "else:\n",
    "    print(\"Yimiş yimiş sıçmamışsın\")"
   ]
  },
  {
   "cell_type": "markdown",
   "metadata": {},
   "source": [
    "### Problem 2\n",
    "\n",
    "Kullanıcıdan 3 tane sayı alın ve en büyük sayıyı ekrana yazdırın."
   ]
  },
  {
   "cell_type": "code",
   "execution_count": 8,
   "metadata": {},
   "outputs": [
    {
     "name": "stdout",
     "output_type": "stream",
     "text": [
      "Bono soyo vor:9\n",
      "Bono soyo vor:8\n",
      "Bono soyo vor:7\n",
      "Al sana bombe 9.0\n"
     ]
    }
   ],
   "source": [
    "a = float(input(\"Bono soyo vor:\"))\n",
    "b = float(input(\"Bono soyo vor:\"))\n",
    "c = float(input(\"Bono soyo vor:\"))\n",
    "if(a>=b and a>=c):\n",
    "    print(\"Al sana bombe {}\".format(a))\n",
    "elif(b>=a and b>=c):\n",
    "    print(\"Al sana bombe {}\".format(b))\n",
    "elif(c>=a and c>=b):\n",
    "    print(\"Al sana bombe {}\".format(c))"
   ]
  },
  {
   "cell_type": "markdown",
   "metadata": {},
   "source": [
    "### Problem 3"
   ]
  },
  {
   "cell_type": "markdown",
   "metadata": {},
   "source": [
    "Kullanıcının girdiği **vize1,vize2,final notlarına** notlarına göre harf notunu hesaplayın.\n",
    "\n",
    "        Vize1 toplam notun %30'una etki edecek.\n",
    "\n",
    "        Vize2 toplam notun %30'una etki edecek.\n",
    "\n",
    "        Final toplam notun %40'ına etki edecek.\n",
    "\n",
    "\n",
    "        Toplam Not >=  90 -----> AA\n",
    "\n",
    "        Toplam Not >=  85 -----> BA\n",
    "\n",
    "        Toplam Not >=  80 -----> BB\n",
    "\n",
    "        Toplam Not >=  75 -----> CB\n",
    "\n",
    "        Toplam Not >=  70 -----> CC\n",
    "\n",
    "        Toplam Not >=  65 -----> DC\n",
    "\n",
    "        Toplam Not >=  60 -----> DD\n",
    "\n",
    "        Toplam Not >=  55 -----> FD\n",
    "\n",
    "        Toplam Not <  55 -----> FF\n",
    "\n"
   ]
  },
  {
   "cell_type": "code",
   "execution_count": 3,
   "metadata": {},
   "outputs": [
    {
     "name": "stdout",
     "output_type": "stream",
     "text": [
      "Welcome to grade calculator!\n",
      "Please follow the instructors below.\n",
      "First exam note:82\n",
      "Second exam note:83\n",
      "Final exam note:82.5\n",
      "BB\n",
      "Your result 82.5\n"
     ]
    }
   ],
   "source": [
    "print(\"Welcome to grade calculator!\\nPlease follow the instructors below.\")\n",
    "midterm1 = float(input(\"First exam note:\"))\n",
    "midterm2 = float(input(\"Second exam note:\"))\n",
    "final = float(input(\"Final exam note:\"))\n",
    "result = midterm1*0.3 + midterm2*0.3 + final*0.4\n",
    "if(result>=90):\n",
    "    print(\"AA\")\n",
    "elif(result<90 and result>=85):\n",
    "    print(\"BA\")\n",
    "elif(result<85 and result>=80):\n",
    "    print(\"BB\")\n",
    "elif(result<80 and result>=75):\n",
    "    print(\"CB\")\n",
    "elif(result<75 and result>=70):\n",
    "    print(\"CC\")\n",
    "elif(result<70 and result>=65):\n",
    "    print(\"DC\")\n",
    "elif(result<65 and result>=60):\n",
    "    print(\"DD\")\n",
    "elif(result<60 and result>=55):\n",
    "    print(\"FD\")\n",
    "#else:\n",
    "#    print(\"FF\")\n",
    "print(\"Your result {}\".format(result))"
   ]
  },
  {
   "cell_type": "markdown",
   "metadata": {},
   "source": [
    "### Problem 4\n",
    "\n",
    "Şimdi de geometrik şekil hesaplama işlemi yapalım. İlk olarak kullanıcıdan üçgenin mi dörtgenin mi tipini bulmak istediğini sorun. \n",
    "\n",
    "Eğer kullanıcı \"Dörtgen\" cevabını verirse ,  4 tane kenar isteyip bu dörtgenin kare mi , dikdörtgen mi yoksa sıradan bir dörtgen mi olduğunu bulmaya çalışın.\n",
    "\n",
    "Eğer kullanıcı \"Üçgen\" cevabını verirse ,  3 tane kenar isteyip bu üçgenin ikizkenar mı , eşkenar mı yoksa sıradan bir üçgen mi olduğunu bulmaya çalışın. Eğer verilen kenarlar bir üçgen belirtmiyorsa, ekrana \"Üçgen belirtmiyor\" şeklinde bir yazı yazın.o\n",
    "\n",
    "*Üçgen belirtme şartını bilmiyorsunuz internetten bakabilirsiniz.*\n",
    "\n",
    "*Ayrıca , bu problemde mutlak değer bulmaya ihtiyacınız olacak. Bunun için, Pythonda hazır bir fonksiyon olan abs() fonksiyonunu kullanabilirsiniz. Kullanımı şu şekildedir ;*\n",
    "\n",
    "\n",
    "\n",
    "\n"
   ]
  },
  {
   "cell_type": "code",
   "execution_count": 1,
   "metadata": {},
   "outputs": [
    {
     "data": {
      "text/plain": [
       "4"
      ]
     },
     "execution_count": 1,
     "metadata": {},
     "output_type": "execute_result"
    }
   ],
   "source": [
    "abs(-4)"
   ]
  },
  {
   "cell_type": "code",
   "execution_count": 2,
   "metadata": {},
   "outputs": [
    {
     "data": {
      "text/plain": [
       "5"
      ]
     },
     "execution_count": 2,
     "metadata": {},
     "output_type": "execute_result"
    }
   ],
   "source": [
    "abs(5)"
   ]
  },
  {
   "cell_type": "markdown",
   "metadata": {
    "collapsed": true
   },
   "source": [
    "***Not: Bu problem sizin algoritma kurma becerinizi bir hayli geliştirecektir.***"
   ]
  },
  {
   "cell_type": "code",
   "execution_count": 17,
   "metadata": {},
   "outputs": [],
   "source": [
    "def Triangle(a,b,c):\n",
    "    if(a+b>c and b+c>a and a+c>b):\n",
    "        if(a==b and a==c):\n",
    "            print(\"That is a isosceles.\")\n",
    "        elif((a==b and a!=c) or (a==c and b!=a) or (b==c and b!=c)):\n",
    "            print(\"That is a ikizkenar\")\n",
    "        else:\n",
    "            print(\"That is an ordinary triangle\")\n",
    "    else:\n",
    "        print(\"Not a triangle\")"
   ]
  },
  {
   "cell_type": "code",
   "execution_count": 18,
   "metadata": {},
   "outputs": [],
   "source": [
    "def squarish(a,b,c,d):\n",
    "    if(a==b and a==c and a==d):\n",
    "        print(\"That is a square\")\n",
    "    else:\n",
    "        print(\"That is an ordinary squarish\")"
   ]
  },
  {
   "cell_type": "code",
   "execution_count": 23,
   "metadata": {},
   "outputs": [
    {
     "name": "stdout",
     "output_type": "stream",
     "text": [
      "Lütfen çokgenin tipini giriniz.dörtgen\n",
      "İlk kenar:1\n",
      "İkinci kenar:1\n",
      "Üçüncü kenar:1\n",
      "Dordüncü kenar:1\n",
      "That is a square\n"
     ]
    }
   ],
   "source": [
    "d = \"dörtgen\"\n",
    "ü = \"üçgen\"\n",
    "shape = input(\"Lütfen çokgenin tipini giriniz.\")\n",
    "s = shape.lower()\n",
    "if(s==ü):\n",
    "    a = float(input(\"İlk kenar:\"))\n",
    "    b = float(input(\"İkinci kenar:\"))\n",
    "    c = float(input(\"Üçüncü kenar:\"))\n",
    "    Triangle(a,b,c)\n",
    "elif(s==d):\n",
    "    a = float(input(\"İlk kenar:\"))\n",
    "    b = float(input(\"İkinci kenar:\"))\n",
    "    c = float(input(\"Üçüncü kenar:\"))\n",
    "    d = float(input(\"Dordüncü kenar:\"))\n",
    "    squarish(a,b,c,d)\n",
    "else:\n",
    "    print(\"Entry is not valid.\\nTry again.\")"
   ]
  },
  {
   "cell_type": "code",
   "execution_count": null,
   "metadata": {},
   "outputs": [],
   "source": []
  },
  {
   "cell_type": "code",
   "execution_count": null,
   "metadata": {},
   "outputs": [],
   "source": []
  }
 ],
 "metadata": {
  "kernelspec": {
   "display_name": "Python 3",
   "language": "python",
   "name": "python3"
  },
  "language_info": {
   "codemirror_mode": {
    "name": "ipython",
    "version": 3
   },
   "file_extension": ".py",
   "mimetype": "text/x-python",
   "name": "python",
   "nbconvert_exporter": "python",
   "pygments_lexer": "ipython3",
   "version": "3.7.4"
  }
 },
 "nbformat": 4,
 "nbformat_minor": 2
}
