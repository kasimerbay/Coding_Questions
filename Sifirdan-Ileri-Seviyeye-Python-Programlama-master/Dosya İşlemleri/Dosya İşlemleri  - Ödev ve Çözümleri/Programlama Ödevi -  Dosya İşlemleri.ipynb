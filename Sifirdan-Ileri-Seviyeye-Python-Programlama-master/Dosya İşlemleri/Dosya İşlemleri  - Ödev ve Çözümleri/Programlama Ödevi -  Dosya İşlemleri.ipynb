{
 "cells": [
  {
   "cell_type": "markdown",
   "metadata": {},
   "source": [
    "## Programlama Ödevi -  Dosya İşlemleri\n",
    "\n",
    "### Proje 1 \n",
    "\n",
    "Kodlama egzersizimizde bir sınıfın harf notlarını hesapladığımız programı geliştirerek kalanları \"kalanlar.txt\" dosyasında ve geçenleri \"geçenler.txt\" dosyasına yazmaya çalışın.\n"
   ]
  },
  {
   "cell_type": "code",
   "execution_count": null,
   "metadata": {},
   "outputs": [],
   "source": [
    "with open(\"P.txt\",\"r\",encoding = \"utf-8\") as file:\n",
    "    list=[]\n",
    "    for i in file:\n",
    "        if(len(i)!= 1):\n",
    "            list.append(i[:-1].split(\",\"))\n",
    "            #print(f\"İsim :{i}\")\n",
    "grades=[]\n",
    "for i in list:\n",
    "    name = i[0]\n",
    "    midterm1=int(i[1])\n",
    "    midterm2=int(i[2])\n",
    "    final=int(i[3])\n",
    "    total = midterm1*0.3 + midterm2*0.3 + final*0.4\n",
    "    if(total>=90):\n",
    "        grades.append([\"AA\"])\n",
    "    elif(total>=80):\n",
    "        grades.append([\"BA\"])\n",
    "    elif(total>=70):\n",
    "        grades.append([\"BB\"])\n",
    "    elif(total>=60):\n",
    "        grades.append([\"CB\"])\n",
    "    elif(total>=50):\n",
    "        grades.append([\"CC\"])\n",
    "    elif(total>=40):\n",
    "        grades.append([\"DC\"])\n",
    "    elif(total>=30):\n",
    "        grades.append([\"DD\"])\n",
    "    else:\n",
    "        grades.append([\"F\"])\n",
    "    #print(f\"Name: {name} --- Midterm1: {midterm1} Midterm2: {midterm2}  Final: {final}\")\n",
    "#print(grades)\n",
    "for i in range(len(list)):\n",
    "    grades[i].insert(0,list[i][0].strip())\n",
    "grades.sort()\n",
    "print(grades)\n",
    "for i in grades:\n",
    "    if(i[1] == \"F\"):\n",
    "        with open(\"kalanlar.txt\",\"a\") as kalanlar:\n",
    "                i=\"-----\".join(i)\n",
    "                kalanlar.write(i+\"\\n\")\n",
    "    else:\n",
    "        with open(\"geçenler.txt\",\"a\") as gecenler:\n",
    "                i=\"-----\".join(i)\n",
    "                gecenler.write(i+\"\\n\")"
   ]
  },
  {
   "cell_type": "code",
   "execution_count": null,
   "metadata": {},
   "outputs": [],
   "source": [
    "geçenler = open(\"geçenler.txt\",\"r+\")\n",
    "for i in geçenler:\n",
    "    print(i)"
   ]
  },
  {
   "cell_type": "code",
   "execution_count": null,
   "metadata": {},
   "outputs": [],
   "source": [
    "kalanlar = open(\"kalanlar.txt\",\"r+\")\n",
    "for i in kalanlar:\n",
    "    print(i)"
   ]
  },
  {
   "cell_type": "code",
   "execution_count": null,
   "metadata": {},
   "outputs": [],
   "source": [
    "kalanlar = open(\"kalanlar.txt\",\"r+\",encoding = \"utf-8\")\n",
    "geçenler = open(\"geçenler.txt\",\"r+\",encoding = \"utf-8\")\n",
    "kalanlar.truncate()\n",
    "geçenler.truncate()\n",
    "kalanlar.close()\n",
    "geçenler.close()"
   ]
  },
  {
   "cell_type": "markdown",
   "metadata": {},
   "source": [
    "### Proje 2\n",
    "\n",
    "\"futbolcular.txt\" şeklinde bir dosya oluşturun ve içine Galatasaray,Fenerbahçe ve Beşiktaşta oynayan futbolcuları rastgele yerleştirin. Bu dosyadan herbir takımın futbolcularını ayırarak \"gs.txt\" , \"fb.txt\", \"bjk.txt\" şeklinde 3 farklı dosyaya yazın. \n",
    "\n",
    "\"futbolcular.txt\" dosyasının başlangıç hali şu şekilde olsun.\n",
    "\n",
    "\n",
    "                    Fernando Muslera,Galatasaray\n",
    "                    Atiba Hutchinson,Beşiktaş\n",
    "                    Simon Kjaer,Fenerbahçe\n",
    "                               //\n",
    "                               //\n",
    "                               //\n",
    "                               //\n",
    "                               //\n"
   ]
  },
  {
   "cell_type": "code",
   "execution_count": null,
   "metadata": {},
   "outputs": [],
   "source": [
    "players = open(\"futbolcular.txt\",\"r+\",encoding = \"utf-8\")\n",
    "list = []\n",
    "for i in players:\n",
    "    list.append(i[:-1].split(\",\"))\n",
    "print(list)\n",
    "for i in list:\n",
    "    if(i[1].lower()==\"galatasaray\"):\n",
    "        gs = open(\"gs.txt\",\"a\",encoding = \"utf-8\")\n",
    "        gs.write(i[0] +\"\\n\")\n",
    "        gs.close()\n",
    "    elif(i[1].lower()==\"beşiktaş\"):\n",
    "        bjk = open(\"bjk.txt\",\"a\",encoding = \"utf-8\")\n",
    "        bjk.write(i[0] +\"\\n\")\n",
    "        bjk.close()\n",
    "    elif(i[1].lower()==\"fenerbahçe\"):\n",
    "        fb = open(\"fb.txt\",\"a\",encoding = \"utf-8\")\n",
    "        fb.write(i[0] +\"\\n\")\n",
    "        fb.close()\n",
    "players.close()"
   ]
  },
  {
   "cell_type": "code",
   "execution_count": null,
   "metadata": {},
   "outputs": [],
   "source": [
    "gs = open(\"gs.txt\",\"r+\",encoding = \"utf-8\")\n",
    "gs.truncate()\n",
    "gs.close()\n",
    "bjk = open(\"bjk.txt\",\"r+\",encoding = \"utf-8\")\n",
    "bjk.truncate()\n",
    "bjk.close()\n",
    "fb = open(\"fb.txt\",\"r+\",encoding = \"utf-8\")\n",
    "fb.truncate()\n",
    "fb.close()"
   ]
  }
 ],
 "metadata": {
  "kernelspec": {
   "display_name": "Python 3",
   "language": "python",
   "name": "python3"
  },
  "language_info": {
   "codemirror_mode": {
    "name": "ipython",
    "version": 3
   },
   "file_extension": ".py",
   "mimetype": "text/x-python",
   "name": "python",
   "nbconvert_exporter": "python",
   "pygments_lexer": "ipython3",
   "version": "3.7.4"
  }
 },
 "nbformat": 4,
 "nbformat_minor": 2
}
