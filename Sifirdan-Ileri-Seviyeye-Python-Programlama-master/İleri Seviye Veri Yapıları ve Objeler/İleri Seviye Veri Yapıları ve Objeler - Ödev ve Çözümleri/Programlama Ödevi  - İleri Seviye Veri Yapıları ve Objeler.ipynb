{
 "cells": [
  {
   "cell_type": "markdown",
   "metadata": {},
   "source": [
    "## İleri Seviye Veri Yapıları ve Objeler\n",
    "\n",
    "### Problem 1\n",
    "\n",
    "Elinizde uzunca bir string olsun. \n",
    "\n",
    "                \"ProgramlamaÖdeviİleriSeviyeVeriYapılarıveObjeleripynb\"\n",
    "                \n",
    "                \n",
    "Bu string içindeki harflerin frekansını (bir harfin kaç defa geçtiği) bulmaya çalışın.\n",
    "\n",
    "***İpucu : Kodlama egzersizimizde buna çok benzer bir şey yapmıştık.***\n",
    "\n",
    "\n"
   ]
  },
  {
   "cell_type": "code",
   "execution_count": null,
   "metadata": {},
   "outputs": [],
   "source": [
    "s = \"ProgramlamaÖdeviİleriSeviyeVeriYapılarıveObjeleripynb\".lower()\n",
    "p=[]\n",
    "for i in s:\n",
    "    if(i not in p):\n",
    "        print(f\"{i}---{s.count(i)}\")\n",
    "    p.append(i)"
   ]
  },
  {
   "cell_type": "markdown",
   "metadata": {},
   "source": [
    "### Problem 2\n",
    "\n",
    "\"şiir.txt\" şeklinde bir dosya oluşturun ve içinde şu satırlar yer alsın.\n",
    "\n",
    "                        Memlekete sis çökmüş bir gece \n",
    "                        Usulca yanağıma sen düşüyorsun\n",
    "                        Sabah saat dokuzu beş geçe\n",
    "                        Terk edip bizleri gidiyorsun\n",
    "                        Ayrılık bu kadar yakmamıştı içimizi\n",
    "                        Farkında mısın bilmiyorum\n",
    "                        Aldın beraberinde cumhuriyetimizi\n",
    "                        Korkunç bir veda, sararmıştı her yer\n",
    "                        Ellerini uzat tutmak istiyoruz\n",
    "                        Masmavi gözleri kaybetmiş çocuk\n",
    "                        Aldı bir sabah ruhumuzu\n",
    "                        Lakin nasıl bölmesin yokluğun uykumuzu\n",
    "\n",
    "Bu dosyanın herbir satırını okuyun. Satırların baş harflerini birbirine ekleyerek bir string oluşturun ve bu string'i ekrana yazdırın."
   ]
  },
  {
   "cell_type": "code",
   "execution_count": null,
   "metadata": {},
   "outputs": [],
   "source": [
    "with open(\"C:/Users/HP/Desktop/Sifirdan-Ileri-Seviyeye-Python-Programlama-master/İleri Seviye Veri Yapıları ve Objeler/İleri Seviye Veri Yapıları ve Objeler - Ödev ve Çözümleri/şiir.txt\",\"r+\",encoding=\"utf-8\") as file:\n",
    "    s = []\n",
    "    for i in file:\n",
    "        s.insert(len(s),file.readline(1))\n",
    "print(\"\".join(s))"
   ]
  },
  {
   "cell_type": "markdown",
   "metadata": {},
   "source": [
    "### Problem 3\n",
    "\n",
    "Elinizde \"mailler.txt\" adında , maillerin ve bazı yazıların bulunduğu bir dosya olsun. Bu dosyanın her bir satırını okuyun ve sadece mail formatına uygun olanları ekrana yazdırın.\n",
    "\n",
    "                        coskun.m.murat@gmail.com\n",
    "                        example@xyz.com\n",
    "                        mustafa.com\n",
    "                        mustafa@gmail\n",
    "                        kerim@yahoo.com\n",
    "                        \n",
    "                               //\n",
    "                               //\n",
    "                               //\n",
    "                               \n",
    "                        \n",
    "***İpucu: Stringlerde bulunan endswith ve find metodlarını kullanabilirsiniz.***                        "
   ]
  },
  {
   "cell_type": "code",
   "execution_count": 7,
   "metadata": {},
   "outputs": [
    {
     "name": "stdout",
     "output_type": "stream",
     "text": [
      "ahmetkasim2@gmail.com\n",
      "m.ibrahimerbay@hotmail.com\n",
      "a.kasimerbay@hotmail.com\n"
     ]
    }
   ],
   "source": [
    "with open(\"mailler.txt\", \"r+\", encoding=\"utf-8\") as file:\n",
    "    for i in file:\n",
    "        if(i.find(\"@\") and i[:-1].endswith(\".com\")):\n",
    "            print(i,end=\"\")"
   ]
  },
  {
   "cell_type": "markdown",
   "metadata": {},
   "source": [
    "### Problem 4\n",
    "\n",
    "Elinizde 2 tane liste bulunsun. Bu listelerden isim ve soyisimleri birleştirerek , ekrana isim ve soyisimleri ***isimlere*** göre sıralı bir şekilde yazdırmaya çalışın.\n",
    "\n",
    "            isim -----> [\"Kerim\",\"Tarık\",\"Ezgi\",\"Kemal\",\"İlkay\",\"Şükran\",\"Merve\"]\n",
    "\n",
    "            soyisim ------> [\"Yılmaz\",\"Öztürk\",\"Dağdeviren\",\"Atatürk\",\"Dikmen\",\"Kaya\",\"Polat\"]\n",
    "            "
   ]
  },
  {
   "cell_type": "code",
   "execution_count": null,
   "metadata": {},
   "outputs": [],
   "source": []
  }
 ],
 "metadata": {
  "kernelspec": {
   "display_name": "Python 3",
   "language": "python",
   "name": "python3"
  },
  "language_info": {
   "codemirror_mode": {
    "name": "ipython",
    "version": 3
   },
   "file_extension": ".py",
   "mimetype": "text/x-python",
   "name": "python",
   "nbconvert_exporter": "python",
   "pygments_lexer": "ipython3",
   "version": "3.7.4"
  }
 },
 "nbformat": 4,
 "nbformat_minor": 2
}
