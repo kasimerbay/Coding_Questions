{
 "cells": [
  {
   "cell_type": "markdown",
   "metadata": {},
   "source": [
    "## Programlama Ödevi - Temel Python Objeleri ve Veri Yapıları\n",
    "\n",
    "*Tebrikler! Bölümü başarıyla bitirdiniz. Şimdi, öğrendiklerinizin akılda kalması için ödevinizi yapma zamanı!*"
   ]
  },
  {
   "cell_type": "markdown",
   "metadata": {},
   "source": [
    "### Problem 1\n",
    "\n",
    "Kullanıcıdan aldığınız 3 tane sayıyı çarparak ekrana yazdırın. Ekrana yazdırma işlemini ***format*** metoduyla yapmaya çalışın."
   ]
  },
  {
   "cell_type": "code",
   "execution_count": 1,
   "metadata": {},
   "outputs": [
    {
     "name": "stdout",
     "output_type": "stream",
     "text": [
      "Birinci Sayı:2\n",
      "İkinci Sayı:3\n",
      "Üçüncü Sayı:4\n",
      "24\n"
     ]
    }
   ],
   "source": [
    "a=int(input(\"Birinci Sayı:\"))\n",
    "b=int(input(\"İkinci Sayı:\"))\n",
    "c=int(input(\"Üçüncü Sayı:\"))\n",
    "print(\"{}\".format(a*b*c))"
   ]
  },
  {
   "cell_type": "markdown",
   "metadata": {},
   "source": [
    "### Problem 2\n",
    "\n",
    "Kullanıcıdan aldığınız **boy** ve **kilo** değerlerine göre kullanıcının beden kitle indeksini bulun.\n",
    "\n",
    "*Beden Kitle İndeksi :  Kilo / Boy(m) * Boy(m)"
   ]
  },
  {
   "cell_type": "code",
   "execution_count": 5,
   "metadata": {},
   "outputs": [
    {
     "name": "stdout",
     "output_type": "stream",
     "text": [
      "Boy:1.82\n",
      "Kilo:87\n",
      "26.26494384736143\n"
     ]
    }
   ],
   "source": [
    "b = float(input(\"Boy:\"))\n",
    "k = int(input(\"Kilo:\"))\n",
    "print(k/(b*b))"
   ]
  },
  {
   "cell_type": "markdown",
   "metadata": {},
   "source": [
    "### Problem 3 \n",
    "\n",
    "Bir aracın kilometrede ne kadar yaktığı ve kaç kilometre yol yaptığı bilgilerini alın ve sürücünü toplam ne kadar ödemesini gerektiğini hesaplayın."
   ]
  },
  {
   "cell_type": "code",
   "execution_count": 7,
   "metadata": {},
   "outputs": [
    {
     "name": "stdout",
     "output_type": "stream",
     "text": [
      "Kaç yakıyon:6\n",
      "Kaç gittin:300\n",
      "1800.0\n"
     ]
    }
   ],
   "source": [
    "y = float(input(\"Kaç yakıyon:\"))\n",
    "k = int(input(\"Kaç gittin:\"))\n",
    "print(y*k)"
   ]
  },
  {
   "cell_type": "markdown",
   "metadata": {},
   "source": [
    "### Problem 4\n",
    "\n",
    "Kullanıcıdan ad,soyad ve numara bilgisini alarak bunları alt alta ekrana yazdırın."
   ]
  },
  {
   "cell_type": "code",
   "execution_count": 11,
   "metadata": {},
   "outputs": [
    {
     "name": "stdout",
     "output_type": "stream",
     "text": [
      "Adınız:Muhammed İbrahim\n",
      "Soyadınız:Erbay\n",
      "Numaranı versene:5482293450\n",
      "İsim:Muhammed İbrahim\n",
      "Soyisim:Erbay\n",
      "Numaran:5482293450\n"
     ]
    }
   ],
   "source": [
    "ad = input(\"Adınız:\")\n",
    "soyad = input(\"Soyadınız:\")\n",
    "numara = int(input(\"Numaranı versene:\"))\n",
    "print(\"İsim:{}\\nSoyisim:{}\\nNumaran:{}\".format(ad,soyad,numara))"
   ]
  },
  {
   "cell_type": "markdown",
   "metadata": {},
   "source": [
    "### Problem 5 \n",
    "\n",
    "Kullanıcıdan iki tane sayı isteyin ve bu sayıların değerlerini birbirleriyle değiştirin."
   ]
  },
  {
   "cell_type": "code",
   "execution_count": 1,
   "metadata": {},
   "outputs": [
    {
     "name": "stdout",
     "output_type": "stream",
     "text": [
      "Sayı Bir:5\n",
      "Sayı İki:4\n",
      "4.0 5.0\n"
     ]
    }
   ],
   "source": [
    "a = float(input(\"Sayı Bir:\"))\n",
    "b = float(input(\"Sayı İki:\"))\n",
    "a,b = b,a\n",
    "print(a,b)"
   ]
  },
  {
   "cell_type": "markdown",
   "metadata": {},
   "source": [
    "### Problem 6"
   ]
  },
  {
   "cell_type": "markdown",
   "metadata": {},
   "source": [
    "Kullanıcıdan bir dik üçgenin dik olan iki kenarını(a,b) alın ve hipotenüs uzunluğunu bulmaya çalışın.\n",
    "\n",
    "Hipotenüs Formülü: a^2 + b^2 = c^2"
   ]
  },
  {
   "cell_type": "code",
   "execution_count": 14,
   "metadata": {},
   "outputs": [
    {
     "name": "stdout",
     "output_type": "stream",
     "text": [
      "İlk kenar:3\n",
      "ikinci kenar:4\n",
      "Hipotenüs: 5.0\n"
     ]
    }
   ],
   "source": [
    "a = int(input(\"İlk kenar:\"))\n",
    "b = int(input(\"ikinci kenar:\"))\n",
    "c = (a**2 + b**2)**0.5\n",
    "print(\"Hipotenüs: {}\".format(c))"
   ]
  },
  {
   "cell_type": "code",
   "execution_count": null,
   "metadata": {},
   "outputs": [],
   "source": []
  }
 ],
 "metadata": {
  "kernelspec": {
   "display_name": "Python 3",
   "language": "python",
   "name": "python3"
  },
  "language_info": {
   "codemirror_mode": {
    "name": "ipython",
    "version": 3
   },
   "file_extension": ".py",
   "mimetype": "text/x-python",
   "name": "python",
   "nbconvert_exporter": "python",
   "pygments_lexer": "ipython3",
   "version": "3.7.4"
  }
 },
 "nbformat": 4,
 "nbformat_minor": 2
}
