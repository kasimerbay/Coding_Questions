{
 "cells": [
  {
   "cell_type": "markdown",
   "metadata": {},
   "source": [
    "## Programlama Ödevi -  Nesne Tabanlı Programlama\n",
    "\n",
    "\n",
    "\n",
    "### Proje 1 \n",
    "\n",
    "Kodlama Egzersizimizde yazdığımız Kumanda Sınıfına ek olarak metodlar ve özellikler eklemeye çalışın."
   ]
  },
  {
   "cell_type": "markdown",
   "metadata": {},
   "source": [
    "### Proje 2 "
   ]
  },
  {
   "cell_type": "markdown",
   "metadata": {},
   "source": [
    "Bir tane \"Bilgisayar\" sınıfı oluşturarak bu sınıfa metodlar ve özellikler ekleyin ve bu class'ı kullanmaya çalışın.\n",
    "\n",
    "*Bu sınıfı yazarken öğrendiğimiz özel metodların hepsini tanımlamaya çalışın.*"
   ]
  },
  {
   "cell_type": "code",
   "execution_count": null,
   "metadata": {},
   "outputs": [],
   "source": [
    "class Computer():\n",
    "    def __init__(self,brand,op,op_edit):\n",
    "        self.brand=brand\n",
    "        self.op=op\n",
    "        self.op_edit=op_edit\n",
    "    def introduceSelf(self):\n",
    "        print(\"Brand: {}\\nOperation System: {}\\nEdition of OP: {}\".format(self.brand,self.op,self.op_edit))\n",
    "    \n",
    "\n",
    "C =[]\n",
    "l=int(input(\"How many Computers will you have have?\"))\n",
    "for i in range(l):\n",
    "    print(\"{}. Bilgisayar\".format(i+1))\n",
    "    a = input(\"Bilgisayarın markası:\")\n",
    "    b = input(\"Bilgisayarın işletim sistemi:\")\n",
    "    c = input(\"İşletim Sisteminin sürümü:\")\n",
    "    C.append(Computer(a,b,c))\n",
    "    print(\"\"\"\n",
    "    ---------------------------\n",
    "    \"\"\")    "
   ]
  },
  {
   "cell_type": "markdown",
   "metadata": {},
   "source": [
    "### Proje 3 "
   ]
  },
  {
   "cell_type": "markdown",
   "metadata": {},
   "source": [
    "Bu projede ise 4 tane sınıfı oluşturun. \n",
    "\n",
    "*Hayvan Sınıfı ------> Bütün hayvanların ortak özelliklerinin toplandığı sınıf olacak.*\n",
    "\n",
    "*Köpek Sınıfı  ------> Bu sınıf, hayvan sınıfından miras alan bir sınıf olacak. Ayrıca bu sınıfa köpeklere ait ek özellikler ve metodlar ekleyin.*\n",
    "\n",
    "*Kuş Sınıfı  ------> Bu sınıf, hayvan sınıfından miras alan bir sınıf olacak. Ayrıca bu sınıfa kuşlara ait ek özellikler ve metodlar ekleyin.*\n",
    "\n",
    "*At Sınıfı   ------> Bu sınıf, hayvan sınıfından miras alan bir sınıf olacak. Ayrıca bu sınıfa atlara ait ek özellikler ve metodlar ekleyin.*"
   ]
  },
  {
   "cell_type": "code",
   "execution_count": null,
   "metadata": {},
   "outputs": [],
   "source": [
    "class Animal():\n",
    "   \n",
    "    def __init__(self,name,habitat,color):\n",
    "        self.name = name\n",
    "        self.habitat = habitat\n",
    "        self.color= color\n",
    "        \n",
    "        \n",
    "class Dog(Animal):\n",
    "    def __init__(self,name,habitat,color,fur,tip):\n",
    "        super().__init__(name,habitat,color)\n",
    "        self.fur = fur\n",
    "        self.tip = tip\n",
    "        \n",
    "    def introduce(self):\n",
    "        return f\"İsim: {self.name} -- Habitat: {self.habitat} -- Color: {self.color} -- Fur: {self.fur}-- Tip: {self.tip}\"\n",
    "\n",
    "class Bird(Animal):\n",
    "    def __init__(self,name,tür,habitat,color,kanatb):\n",
    "        super().__init__(name,habitat,color)\n",
    "        self.tür=tür\n",
    "        self.kanatb = kanatb\n",
    "        \n",
    "    def introduce(self):\n",
    "        return f\"İsim: {self.name} -- Tür: {self.tür} -- Habitat: {self.habitat} -- Color: {self.color} -- Tip: {self.kanatb}\"\n",
    "\n",
    "class Horse(Animal):\n",
    "    def __init__(self,name,tür,habitat,color,km):\n",
    "        super().__init__(name,habitat,color)\n",
    "        self.tür = tür\n",
    "        self.km = km #kaç km gider\n",
    "        \n",
    "    def introduce(self):\n",
    "        return f\"İsim: {self.name} -- Tür: {self.tür} --  Habitat: {self.habitat} -- Color: {self.color} -- Kapasite: {self.km}\"\n",
    "    \n",
    "number_Dog = int(input(\"Kaç köpeğin var?\\n\"))\n",
    "number_Bird = int(input(\"Kaç kuşun var?\\n\"))\n",
    "number_Horse = int(input(\"Kaç atın var?\\n\"))\n",
    "D =[]\n",
    "B =[]\n",
    "H=[]\n",
    "Hayvan =[D,B,H]\n",
    "\n",
    "or i in range(number_Dog):\n",
    "    print(\"{}. İt\".format(i+1))\n",
    "    a = input(\"İtin adı:\")\n",
    "    b = input(\"İtin Habitatı:\")\n",
    "    c = input(\"İtin Rengi:\")\n",
    "    d = input(\"İtin postu:\")\n",
    "    e = input(\"İtin Cinsi:\")\n",
    "    D.append(Dog(a,b,c,d,e))\n",
    "    print(\"\"\"\n",
    "    ---------------------------\n",
    "    \"\"\")\n",
    "for i in range(number_Bird):\n",
    "    print(\"{}. Kuş\".format(i+1))\n",
    "    a = input(\"Kuşun adı:\")\n",
    "    b= input(\"Kuşun Cinsi:\")\n",
    "    c = input(\"Kuşun Habitatı:\")\n",
    "    d = input(\"Kuşun Rengi:\")\n",
    "    e = input(\"Kuşun Kanat Boyu:\")\n",
    "    B.append(Bird(a,b,c,d,e))\n",
    "    print(\"\"\"\n",
    "    ---------------------------\n",
    "    \"\"\")\n",
    "for i in range(number_Horse):\n",
    "    print(\"{}. At\".format(i+1))\n",
    "    a = input(\"Atın adı:\")\n",
    "    b= input(\"Atın Cinsi:\")\n",
    "    c = input(\"Atın Habitatı:\")\n",
    "    d = input(\"Atın Rengi:\")\n",
    "    e = input(\"Atın Koşu Kapasitesi(km):\")\n",
    "    H.append(Horse(a,b,c,d,e))\n",
    "    print(\"\"\"\n",
    "    ---------------------------\n",
    "    \"\"\")"
   ]
  }
 ],
 "metadata": {
  "kernelspec": {
   "display_name": "Python 3",
   "language": "python",
   "name": "python3"
  },
  "language_info": {
   "codemirror_mode": {
    "name": "ipython",
    "version": 3
   },
   "file_extension": ".py",
   "mimetype": "text/x-python",
   "name": "python",
   "nbconvert_exporter": "python",
   "pygments_lexer": "ipython3",
   "version": "3.7.4"
  }
 },
 "nbformat": 4,
 "nbformat_minor": 2
}
